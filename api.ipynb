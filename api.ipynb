{
 "cells": [
  {
   "cell_type": "code",
   "execution_count": null,
   "id": "5732892c",
   "metadata": {},
   "outputs": [],
   "source": [
    "# app.py\n",
    "from flask import Flask, request, jsonify, render_template\n",
    "import pandas as pd\n",
    "import torch\n",
    "from model import ANN  # Make sure ANN class is imported\n",
    "import joblib  # For loading scaler and label encoder\n",
    "\n",
    "# Initialize Flask\n",
    "app = Flask(__name__)\n",
    "\n",
    "# Load pretrained model\n",
    "model = ANN()\n",
    "model.load_state_dict(torch.load(\"best_model.pth\"))\n",
    "model.eval()\n",
    "\n",
    "# Load scaler and label encoder\n",
    "scaler = joblib.load(\"scaler.pkl\")\n",
    "le = joblib.load(\"label_encoder.pkl\")\n",
    "\n",
    "# API endpoint to get prediction\n",
    "@app.route('/predict', methods=['POST'])\n",
    "def predict():\n",
    "    try:\n",
    "        data = request.json  # Get JSON payload\n",
    "        df = pd.DataFrame([data])  # Convert to DataFrame\n",
    "        # Preprocess\n",
    "        X_scaled = scaler.transform(df)\n",
    "        X_tensor = torch.tensor(X_scaled, dtype=torch.float32)\n",
    "        # Predict\n",
    "        with torch.no_grad():\n",
    "            outputs = model(X_tensor)\n",
    "            _, predicted_idx = torch.max(outputs, 1)\n",
    "        label = le.inverse_transform(predicted_idx.numpy())[0]\n",
    "        return jsonify({\"quality_label\": label})\n",
    "    except Exception as e:\n",
    "        return jsonify({\"error\": str(e)})\n",
    "\n",
    "# Route for simple frontend\n",
    "@app.route('/')\n",
    "def home():\n",
    "    return render_template('index.html')  # HTML page\n",
    "\n",
    "if __name__ == '__main__':\n",
    "    app.run(debug=True)\n"
   ]
  }
 ],
 "metadata": {
  "language_info": {
   "name": "python"
  }
 },
 "nbformat": 4,
 "nbformat_minor": 5
}
