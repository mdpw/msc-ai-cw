{
  "nbformat": 4,
  "nbformat_minor": 0,
  "metadata": {
    "colab": {
      "provenance": [],
      "authorship_tag": "ABX9TyN0bLX+STZZ9GVhkgyrgoJE",
      "include_colab_link": true
    },
    "kernelspec": {
      "name": "python3",
      "display_name": "Python 3"
    },
    "language_info": {
      "name": "python"
    }
  },
  "cells": [
    {
      "cell_type": "markdown",
      "metadata": {
        "id": "view-in-github",
        "colab_type": "text"
      },
      "source": [
        "<a href=\"https://colab.research.google.com/github/mdpw/msc-ai-cw/blob/main/full_eda.ipynb\" target=\"_parent\"><img src=\"https://colab.research.google.com/assets/colab-badge.svg\" alt=\"Open In Colab\"/></a>"
      ]
    },
    {
      "cell_type": "code",
      "source": [
        "import pandas as pd\n",
        "import numpy as np\n",
        "import matplotlib.pyplot as plt\n",
        "import seaborn as sns\n",
        "import torch"
      ],
      "metadata": {
        "id": "aXokVaHq_iMi"
      },
      "execution_count": null,
      "outputs": []
    },
    {
      "cell_type": "code",
      "source": [
        "# 1. Load the dataset\n",
        "file_path = \"garment_defect_dataset.csv\"  # Update if needed\n",
        "df = pd.read_csv(file_path)"
      ],
      "metadata": {
        "id": "mE3CiuvT_nJp"
      },
      "execution_count": null,
      "outputs": []
    },
    {
      "cell_type": "code",
      "source": [
        "# 2. Basic information\n",
        "print(\"Dataset Shape:\", df.shape)\n",
        "print(\"\\nDataset Info:\")\n",
        "print(df.info())\n",
        "print(\"\\nFirst 5 rows:\")\n",
        "print(df.head())"
      ],
      "metadata": {
        "id": "-9d2irHq_qDc"
      },
      "execution_count": null,
      "outputs": []
    },
    {
      "cell_type": "code",
      "execution_count": null,
      "metadata": {
        "id": "PvqKssR_Z_7I"
      },
      "outputs": [],
      "source": [
        "\n",
        "\n",
        "\n",
        "\n",
        "# 3. Basic statistics\n",
        "print(\"\\nDescriptive Statistics:\")\n",
        "print(df.describe())\n",
        "\n",
        "# 4. Check for missing values\n",
        "print(\"\\nMissing Values:\")\n",
        "print(df.isnull().sum())\n",
        "\n",
        "# 5. Class distribution (IsDefective)\n",
        "print(\"\\nTarget Distribution:\")\n",
        "print(df['IsDefective'].value_counts())\n",
        "sns.countplot(x='IsDefective', data=df)\n",
        "plt.title('IsDefective Distribution')\n",
        "plt.show()\n",
        "\n",
        "# 6. Correlation Matrix (Numerical Features Only)\n",
        "numeric_df = df.select_dtypes(include=[np.number])\n",
        "corr_matrix = numeric_df.corr()\n",
        "\n",
        "print(\"\\nCorrelation Matrix:\")\n",
        "print(corr_matrix)\n",
        "\n",
        "# Plot Correlation Heatmap\n",
        "plt.figure(figsize=(12, 8))\n",
        "sns.heatmap(corr_matrix, annot=True, cmap='coolwarm', fmt=\".2f\")\n",
        "plt.title('Correlation Heatmap')\n",
        "plt.show()\n",
        "\n",
        "# 7. Distribution of each numerical feature\n",
        "numeric_cols = numeric_df.columns\n",
        "df[numeric_cols].hist(bins=20, figsize=(15, 12), edgecolor='black')\n",
        "plt.suptitle('Feature Distributions', fontsize=16)\n",
        "plt.show()\n",
        "\n",
        "# 8. Pairplot (optional - can be slow for large datasets)\n",
        "sns.pairplot(df[numeric_cols[:5].to_list() + ['IsDefective']], hue='IsDefective')\n",
        "plt.show()\n",
        "\n",
        "# 9. Outlier detection (Boxplots)\n",
        "for col in numeric_cols:\n",
        "    plt.figure(figsize=(6, 4))\n",
        "    sns.boxplot(data=df, x='IsDefective', y=col)\n",
        "    plt.title(f'Boxplot of {col} by IsDefective')\n",
        "    plt.show()\n",
        "\n",
        "# 10. Convert DataFrame to PyTorch tensors for model input\n",
        "# Separate features and labels\n",
        "X = df.drop(columns=['IsDefective']).values\n",
        "y = df['IsDefective'].values\n",
        "\n",
        "# Convert to tensors\n",
        "X_tensor = torch.tensor(X, dtype=torch.float32)\n",
        "y_tensor = torch.tensor(y, dtype=torch.float32)\n",
        "\n",
        "print(\"\\nPyTorch Tensor Shapes:\")\n",
        "print(\"X_tensor:\", X_tensor.shape)\n",
        "print(\"y_tensor:\", y_tensor.shape)\n"
      ]
    }
  ]
}